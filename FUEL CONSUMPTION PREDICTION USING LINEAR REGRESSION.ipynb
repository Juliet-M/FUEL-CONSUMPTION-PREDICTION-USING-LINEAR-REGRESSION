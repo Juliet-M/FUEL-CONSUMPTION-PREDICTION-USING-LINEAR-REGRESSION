{
 "cells": [
  {
   "cell_type": "markdown",
   "id": "86da27f2-efbc-4624-82ef-2d5818de30f5",
   "metadata": {},
   "source": [
    "# FUEL CONSUMPTION PREDICTION USING LINEAR REGRESSION"
   ]
  },
  {
   "cell_type": "markdown",
   "id": "390019d0-a51a-4c42-937e-ce9f5ec89c3b",
   "metadata": {},
   "source": [
    "With increasing concerns about environmental sustainability and the impact of transportation on climate change, understanding the relationship between vehicle attributes and their environmental consequences is critical. The \"Vehicle Attributes and Emissions Dataset,\" which includes detailed information about vehicles manufactured in the year 2000, offers an opportunity to analyze key factors such as engine size, fuel consumption, and CO2 emissions. However, insights into how these attributes influence fuel efficiency and emissions across different vehicle types remain underexplored."
   ]
  },
  {
   "cell_type": "markdown",
   "id": "0d0473f5-b740-43a7-a4a9-3e1fc411b101",
   "metadata": {},
   "source": [
    "## Importing libraries"
   ]
  },
  {
   "cell_type": "code",
   "execution_count": 71,
   "id": "54e7ac45-91b8-4452-ab57-5a0765654a69",
   "metadata": {},
   "outputs": [],
   "source": [
    "import pandas as pd\n",
    "import seaborn as sns\n",
    "import matplotlib.pyplot as plt\n",
    "from sklearn.model_selection import train_test_split\n",
    "from sklearn.linear_model import LinearRegression\n",
    "from sklearn.metrics import r2_score"
   ]
  },
  {
   "cell_type": "markdown",
   "id": "df258d80-5836-4b25-b7f3-02ab15c39e4f",
   "metadata": {},
   "source": [
    "## Importing Dataset"
   ]
  },
  {
   "cell_type": "code",
   "execution_count": 58,
   "id": "fbdbf029-f3bb-45ee-a21b-325227764670",
   "metadata": {},
   "outputs": [
    {
     "data": {
      "text/html": [
       "<div>\n",
       "<style scoped>\n",
       "    .dataframe tbody tr th:only-of-type {\n",
       "        vertical-align: middle;\n",
       "    }\n",
       "\n",
       "    .dataframe tbody tr th {\n",
       "        vertical-align: top;\n",
       "    }\n",
       "\n",
       "    .dataframe thead th {\n",
       "        text-align: right;\n",
       "    }\n",
       "</style>\n",
       "<table border=\"1\" class=\"dataframe\">\n",
       "  <thead>\n",
       "    <tr style=\"text-align: right;\">\n",
       "      <th></th>\n",
       "      <th>ENGINE SIZE</th>\n",
       "      <th>CYLINDERS</th>\n",
       "      <th>FUEL CONSUMPTION</th>\n",
       "      <th>COEMISSIONS</th>\n",
       "    </tr>\n",
       "  </thead>\n",
       "  <tbody>\n",
       "    <tr>\n",
       "      <th>0</th>\n",
       "      <td>1.6</td>\n",
       "      <td>4</td>\n",
       "      <td>10.5</td>\n",
       "      <td>216</td>\n",
       "    </tr>\n",
       "    <tr>\n",
       "      <th>1</th>\n",
       "      <td>1.6</td>\n",
       "      <td>4</td>\n",
       "      <td>9.8</td>\n",
       "      <td>205</td>\n",
       "    </tr>\n",
       "    <tr>\n",
       "      <th>2</th>\n",
       "      <td>3.2</td>\n",
       "      <td>6</td>\n",
       "      <td>13.7</td>\n",
       "      <td>265</td>\n",
       "    </tr>\n",
       "    <tr>\n",
       "      <th>3</th>\n",
       "      <td>3.5</td>\n",
       "      <td>6</td>\n",
       "      <td>15.0</td>\n",
       "      <td>301</td>\n",
       "    </tr>\n",
       "    <tr>\n",
       "      <th>4</th>\n",
       "      <td>1.8</td>\n",
       "      <td>4</td>\n",
       "      <td>11.4</td>\n",
       "      <td>230</td>\n",
       "    </tr>\n",
       "  </tbody>\n",
       "</table>\n",
       "</div>"
      ],
      "text/plain": [
       "   ENGINE SIZE  CYLINDERS  FUEL CONSUMPTION  COEMISSIONS\n",
       "0          1.6          4              10.5          216\n",
       "1          1.6          4               9.8          205\n",
       "2          3.2          6              13.7          265\n",
       "3          3.5          6              15.0          301\n",
       "4          1.8          4              11.4          230"
      ]
     },
     "execution_count": 58,
     "metadata": {},
     "output_type": "execute_result"
    }
   ],
   "source": [
    "df = pd.read_excel('FuelCons.xlsx')\n",
    "df.head()"
   ]
  },
  {
   "cell_type": "markdown",
   "id": "7364fe09-5cae-489c-9c54-7c567fca9fec",
   "metadata": {},
   "source": [
    "## Exploratory Data Analysis"
   ]
  },
  {
   "cell_type": "code",
   "execution_count": 59,
   "id": "15dd6d63-d1a0-4ca4-978a-05d498431220",
   "metadata": {},
   "outputs": [
    {
     "data": {
      "text/html": [
       "<div>\n",
       "<style scoped>\n",
       "    .dataframe tbody tr th:only-of-type {\n",
       "        vertical-align: middle;\n",
       "    }\n",
       "\n",
       "    .dataframe tbody tr th {\n",
       "        vertical-align: top;\n",
       "    }\n",
       "\n",
       "    .dataframe thead th {\n",
       "        text-align: right;\n",
       "    }\n",
       "</style>\n",
       "<table border=\"1\" class=\"dataframe\">\n",
       "  <thead>\n",
       "    <tr style=\"text-align: right;\">\n",
       "      <th></th>\n",
       "      <th>ENGINE SIZE</th>\n",
       "      <th>CYLINDERS</th>\n",
       "      <th>FUEL CONSUMPTION</th>\n",
       "      <th>COEMISSIONS</th>\n",
       "    </tr>\n",
       "  </thead>\n",
       "  <tbody>\n",
       "    <tr>\n",
       "      <th>count</th>\n",
       "      <td>639.000000</td>\n",
       "      <td>639.000000</td>\n",
       "      <td>639.000000</td>\n",
       "      <td>639.000000</td>\n",
       "    </tr>\n",
       "    <tr>\n",
       "      <th>mean</th>\n",
       "      <td>3.265728</td>\n",
       "      <td>5.805947</td>\n",
       "      <td>14.713615</td>\n",
       "      <td>296.809077</td>\n",
       "    </tr>\n",
       "    <tr>\n",
       "      <th>std</th>\n",
       "      <td>1.231012</td>\n",
       "      <td>1.625588</td>\n",
       "      <td>3.307044</td>\n",
       "      <td>65.504178</td>\n",
       "    </tr>\n",
       "    <tr>\n",
       "      <th>min</th>\n",
       "      <td>1.000000</td>\n",
       "      <td>3.000000</td>\n",
       "      <td>4.900000</td>\n",
       "      <td>104.000000</td>\n",
       "    </tr>\n",
       "    <tr>\n",
       "      <th>25%</th>\n",
       "      <td>2.200000</td>\n",
       "      <td>4.000000</td>\n",
       "      <td>12.500000</td>\n",
       "      <td>253.000000</td>\n",
       "    </tr>\n",
       "    <tr>\n",
       "      <th>50%</th>\n",
       "      <td>3.000000</td>\n",
       "      <td>6.000000</td>\n",
       "      <td>14.400000</td>\n",
       "      <td>288.000000</td>\n",
       "    </tr>\n",
       "    <tr>\n",
       "      <th>75%</th>\n",
       "      <td>4.300000</td>\n",
       "      <td>6.000000</td>\n",
       "      <td>16.600000</td>\n",
       "      <td>343.000000</td>\n",
       "    </tr>\n",
       "    <tr>\n",
       "      <th>max</th>\n",
       "      <td>8.000000</td>\n",
       "      <td>12.000000</td>\n",
       "      <td>30.200000</td>\n",
       "      <td>582.000000</td>\n",
       "    </tr>\n",
       "  </tbody>\n",
       "</table>\n",
       "</div>"
      ],
      "text/plain": [
       "       ENGINE SIZE   CYLINDERS  FUEL CONSUMPTION  COEMISSIONS\n",
       "count   639.000000  639.000000        639.000000   639.000000\n",
       "mean      3.265728    5.805947         14.713615   296.809077\n",
       "std       1.231012    1.625588          3.307044    65.504178\n",
       "min       1.000000    3.000000          4.900000   104.000000\n",
       "25%       2.200000    4.000000         12.500000   253.000000\n",
       "50%       3.000000    6.000000         14.400000   288.000000\n",
       "75%       4.300000    6.000000         16.600000   343.000000\n",
       "max       8.000000   12.000000         30.200000   582.000000"
      ]
     },
     "execution_count": 59,
     "metadata": {},
     "output_type": "execute_result"
    }
   ],
   "source": [
    "df.describe()"
   ]
  },
  {
   "cell_type": "code",
   "execution_count": 60,
   "id": "e42d786b-153a-45c8-a107-f5e7ba94d8f5",
   "metadata": {},
   "outputs": [
    {
     "data": {
      "text/plain": [
       "(639, 4)"
      ]
     },
     "execution_count": 60,
     "metadata": {},
     "output_type": "execute_result"
    }
   ],
   "source": [
    "df.shape"
   ]
  },
  {
   "cell_type": "code",
   "execution_count": 61,
   "id": "58a413e5-3a27-4ce2-bddd-2dd1ab0dc6ea",
   "metadata": {},
   "outputs": [
    {
     "data": {
      "text/plain": [
       "ENGINE SIZE         0\n",
       "CYLINDERS           0\n",
       "FUEL CONSUMPTION    0\n",
       "COEMISSIONS         0\n",
       "dtype: int64"
      ]
     },
     "execution_count": 61,
     "metadata": {},
     "output_type": "execute_result"
    }
   ],
   "source": [
    "#Checking nulls\n",
    "df.isnull().sum()"
   ]
  },
  {
   "cell_type": "code",
   "execution_count": 62,
   "id": "57ca0215-3e14-4736-81e3-f6ed37295411",
   "metadata": {},
   "outputs": [
    {
     "data": {
      "text/plain": [
       "182"
      ]
     },
     "execution_count": 62,
     "metadata": {},
     "output_type": "execute_result"
    }
   ],
   "source": [
    "#Checking duplicates\n",
    "df.duplicated().sum()"
   ]
  },
  {
   "cell_type": "code",
   "execution_count": 65,
   "id": "e1e30394-abe5-455e-a3be-d17caf25ba8f",
   "metadata": {},
   "outputs": [],
   "source": [
    "#Feature Selection\n",
    "X = df[['ENGINE SIZE','CYLINDERS','FUEL CONSUMPTION']]\n",
    "y = df['COEMISSIONS']"
   ]
  },
  {
   "cell_type": "code",
   "execution_count": null,
   "id": "ee28eae5-e67e-476d-83d8-59ecedac64a4",
   "metadata": {},
   "outputs": [],
   "source": []
  },
  {
   "cell_type": "code",
   "execution_count": null,
   "id": "00aec147-84a1-481f-ad54-d3f5de8faa7b",
   "metadata": {},
   "outputs": [],
   "source": []
  },
  {
   "cell_type": "markdown",
   "id": "55af8304-dff1-4285-a546-d463b3e4d889",
   "metadata": {},
   "source": [
    "## Model Training"
   ]
  },
  {
   "cell_type": "code",
   "execution_count": 66,
   "id": "2ff00ecd-2c48-415e-a45c-6990ddb8030e",
   "metadata": {},
   "outputs": [],
   "source": [
    "#Splitting Dataset\n",
    "X_train, X_test, y_train, y_test = train_test_split(X, y, test_size=0.2, random_state=42)"
   ]
  },
  {
   "cell_type": "code",
   "execution_count": 67,
   "id": "80e5ed46-fca2-41a0-8ef4-6040797f3005",
   "metadata": {},
   "outputs": [
    {
     "data": {
      "text/html": [
       "<style>#sk-container-id-1 {color: black;background-color: white;}#sk-container-id-1 pre{padding: 0;}#sk-container-id-1 div.sk-toggleable {background-color: white;}#sk-container-id-1 label.sk-toggleable__label {cursor: pointer;display: block;width: 100%;margin-bottom: 0;padding: 0.3em;box-sizing: border-box;text-align: center;}#sk-container-id-1 label.sk-toggleable__label-arrow:before {content: \"▸\";float: left;margin-right: 0.25em;color: #696969;}#sk-container-id-1 label.sk-toggleable__label-arrow:hover:before {color: black;}#sk-container-id-1 div.sk-estimator:hover label.sk-toggleable__label-arrow:before {color: black;}#sk-container-id-1 div.sk-toggleable__content {max-height: 0;max-width: 0;overflow: hidden;text-align: left;background-color: #f0f8ff;}#sk-container-id-1 div.sk-toggleable__content pre {margin: 0.2em;color: black;border-radius: 0.25em;background-color: #f0f8ff;}#sk-container-id-1 input.sk-toggleable__control:checked~div.sk-toggleable__content {max-height: 200px;max-width: 100%;overflow: auto;}#sk-container-id-1 input.sk-toggleable__control:checked~label.sk-toggleable__label-arrow:before {content: \"▾\";}#sk-container-id-1 div.sk-estimator input.sk-toggleable__control:checked~label.sk-toggleable__label {background-color: #d4ebff;}#sk-container-id-1 div.sk-label input.sk-toggleable__control:checked~label.sk-toggleable__label {background-color: #d4ebff;}#sk-container-id-1 input.sk-hidden--visually {border: 0;clip: rect(1px 1px 1px 1px);clip: rect(1px, 1px, 1px, 1px);height: 1px;margin: -1px;overflow: hidden;padding: 0;position: absolute;width: 1px;}#sk-container-id-1 div.sk-estimator {font-family: monospace;background-color: #f0f8ff;border: 1px dotted black;border-radius: 0.25em;box-sizing: border-box;margin-bottom: 0.5em;}#sk-container-id-1 div.sk-estimator:hover {background-color: #d4ebff;}#sk-container-id-1 div.sk-parallel-item::after {content: \"\";width: 100%;border-bottom: 1px solid gray;flex-grow: 1;}#sk-container-id-1 div.sk-label:hover label.sk-toggleable__label {background-color: #d4ebff;}#sk-container-id-1 div.sk-serial::before {content: \"\";position: absolute;border-left: 1px solid gray;box-sizing: border-box;top: 0;bottom: 0;left: 50%;z-index: 0;}#sk-container-id-1 div.sk-serial {display: flex;flex-direction: column;align-items: center;background-color: white;padding-right: 0.2em;padding-left: 0.2em;position: relative;}#sk-container-id-1 div.sk-item {position: relative;z-index: 1;}#sk-container-id-1 div.sk-parallel {display: flex;align-items: stretch;justify-content: center;background-color: white;position: relative;}#sk-container-id-1 div.sk-item::before, #sk-container-id-1 div.sk-parallel-item::before {content: \"\";position: absolute;border-left: 1px solid gray;box-sizing: border-box;top: 0;bottom: 0;left: 50%;z-index: -1;}#sk-container-id-1 div.sk-parallel-item {display: flex;flex-direction: column;z-index: 1;position: relative;background-color: white;}#sk-container-id-1 div.sk-parallel-item:first-child::after {align-self: flex-end;width: 50%;}#sk-container-id-1 div.sk-parallel-item:last-child::after {align-self: flex-start;width: 50%;}#sk-container-id-1 div.sk-parallel-item:only-child::after {width: 0;}#sk-container-id-1 div.sk-dashed-wrapped {border: 1px dashed gray;margin: 0 0.4em 0.5em 0.4em;box-sizing: border-box;padding-bottom: 0.4em;background-color: white;}#sk-container-id-1 div.sk-label label {font-family: monospace;font-weight: bold;display: inline-block;line-height: 1.2em;}#sk-container-id-1 div.sk-label-container {text-align: center;}#sk-container-id-1 div.sk-container {/* jupyter's `normalize.less` sets `[hidden] { display: none; }` but bootstrap.min.css set `[hidden] { display: none !important; }` so we also need the `!important` here to be able to override the default hidden behavior on the sphinx rendered scikit-learn.org. See: https://github.com/scikit-learn/scikit-learn/issues/21755 */display: inline-block !important;position: relative;}#sk-container-id-1 div.sk-text-repr-fallback {display: none;}</style><div id=\"sk-container-id-1\" class=\"sk-top-container\"><div class=\"sk-text-repr-fallback\"><pre>LinearRegression()</pre><b>In a Jupyter environment, please rerun this cell to show the HTML representation or trust the notebook. <br />On GitHub, the HTML representation is unable to render, please try loading this page with nbviewer.org.</b></div><div class=\"sk-container\" hidden><div class=\"sk-item\"><div class=\"sk-estimator sk-toggleable\"><input class=\"sk-toggleable__control sk-hidden--visually\" id=\"sk-estimator-id-1\" type=\"checkbox\" checked><label for=\"sk-estimator-id-1\" class=\"sk-toggleable__label sk-toggleable__label-arrow\">LinearRegression</label><div class=\"sk-toggleable__content\"><pre>LinearRegression()</pre></div></div></div></div></div>"
      ],
      "text/plain": [
       "LinearRegression()"
      ]
     },
     "execution_count": 67,
     "metadata": {},
     "output_type": "execute_result"
    }
   ],
   "source": [
    "#Fitting in Data into the model\n",
    "model = LinearRegression()\n",
    "model.fit(X_train, y_train)"
   ]
  },
  {
   "cell_type": "markdown",
   "id": "7d941f0f-e2bd-4ec0-8923-2b3438329340",
   "metadata": {},
   "source": [
    "## Predictions"
   ]
  },
  {
   "cell_type": "code",
   "execution_count": 68,
   "id": "09842439-ede6-4c4f-a95f-e67b140a4ac9",
   "metadata": {},
   "outputs": [],
   "source": [
    "y_pred = model.predict(X_test)"
   ]
  },
  {
   "cell_type": "markdown",
   "id": "acbcdd99-0a32-4b19-b405-884f5a98f896",
   "metadata": {},
   "source": [
    "# Model Evaluation"
   ]
  },
  {
   "cell_type": "code",
   "execution_count": 73,
   "id": "48470360-abe6-4690-ad19-64fd4a680d17",
   "metadata": {},
   "outputs": [
    {
     "data": {
      "text/plain": [
       "0.9846361749926678"
      ]
     },
     "execution_count": 73,
     "metadata": {},
     "output_type": "execute_result"
    }
   ],
   "source": [
    "r2 = r2_score(y_test, y_pred)\n",
    "r2"
   ]
  },
  {
   "cell_type": "code",
   "execution_count": 75,
   "id": "4559dc9b-0017-4adc-abf8-9988a28879cf",
   "metadata": {},
   "outputs": [
    {
     "data": {
      "image/png": "[encoded data removed]",
      "text/plain": [
       "<Figure size 800x600 with 1 Axes>"
      ]
     },
     "metadata": {},
     "output_type": "display_data"
    }
   ],
   "source": [
    "#Showing visual representation of actual values vs Predicted Values\n",
    "plt.figure(figsize=(8, 6))\n",
    "sns.scatterplot(x=y_test, y=y_pred, color=\"orange\", edgecolor=\"w\")\n",
    "plt.plot([y_test.min(), y_test.max()], [y_test.min(), y_test.max()], color=\"purple\", linestyle=\"--\")\n",
    "plt.title(\"Actual vs Predicted Coemissions\")\n",
    "plt.xlabel(\"Actual Coemissions\")\n",
    "plt.ylabel(\"Predicted Coemissions\")\n",
    "plt.show()"
   ]
  },
  {
   "cell_type": "code",
   "execution_count": 77,
   "id": "16e5e3ff-d5d9-4cce-9f08-899fec647803",
   "metadata": {},
   "outputs": [
    {
     "name": "stderr",
     "output_type": "stream",
     "text": [
      "C:\\Users\\JULIET\\anaconda3\\Lib\\site-packages\\seaborn\\_oldcore.py:1119: FutureWarning: use_inf_as_na option is deprecated and will be removed in a future version. Convert inf values to NaN before operating instead.\n",
      "  with pd.option_context('mode.use_inf_as_na', True):\n"
     ]
    },
    {
     "data": {
      "image/png": "[encoded data removed]",
      "text/plain": [
       "<Figure size 800x600 with 1 Axes>"
      ]
     },
     "metadata": {},
     "output_type": "display_data"
    }
   ],
   "source": [
    "# Showing the residuals\n",
    "residuals = y_test - y_pred\n",
    "plt.figure(figsize=(8, 6))\n",
    "sns.histplot(residuals, kde=True, color=\"purple\")\n",
    "plt.title(\"Residuals Distribution\")\n",
    "plt.xlabel(\"Residuals\")\n",
    "plt.ylabel(\"Frequency\")\n",
    "plt.show()"
   ]
  },
  {
   "cell_type": "code",
   "execution_count": 79,
   "id": "eb71d7c6-4e07-4351-b52c-09eb3195c200",
   "metadata": {},
   "outputs": [
    {
     "data": {
      "text/html": [
       "<div>\n",
       "<style scoped>\n",
       "    .dataframe tbody tr th:only-of-type {\n",
       "        vertical-align: middle;\n",
       "    }\n",
       "\n",
       "    .dataframe tbody tr th {\n",
       "        vertical-align: top;\n",
       "    }\n",
       "\n",
       "    .dataframe thead th {\n",
       "        text-align: right;\n",
       "    }\n",
       "</style>\n",
       "<table border=\"1\" class=\"dataframe\">\n",
       "  <thead>\n",
       "    <tr style=\"text-align: right;\">\n",
       "      <th></th>\n",
       "      <th>ENGINE SIZE</th>\n",
       "      <th>CYLINDERS</th>\n",
       "      <th>FUEL CONSUMPTION</th>\n",
       "      <th>COEMISSIONS</th>\n",
       "      <th>Predicted COEMISSIONS</th>\n",
       "      <th>Predicted COEMISSIONS</th>\n",
       "    </tr>\n",
       "  </thead>\n",
       "  <tbody>\n",
       "    <tr>\n",
       "      <th>0</th>\n",
       "      <td>1.6</td>\n",
       "      <td>4</td>\n",
       "      <td>10.5</td>\n",
       "      <td>216</td>\n",
       "      <td>213.482691</td>\n",
       "      <td>213.482691</td>\n",
       "    </tr>\n",
       "    <tr>\n",
       "      <th>1</th>\n",
       "      <td>1.6</td>\n",
       "      <td>4</td>\n",
       "      <td>9.8</td>\n",
       "      <td>205</td>\n",
       "      <td>199.921108</td>\n",
       "      <td>199.921108</td>\n",
       "    </tr>\n",
       "    <tr>\n",
       "      <th>2</th>\n",
       "      <td>3.2</td>\n",
       "      <td>6</td>\n",
       "      <td>13.7</td>\n",
       "      <td>265</td>\n",
       "      <td>276.191481</td>\n",
       "      <td>276.191481</td>\n",
       "    </tr>\n",
       "    <tr>\n",
       "      <th>3</th>\n",
       "      <td>3.5</td>\n",
       "      <td>6</td>\n",
       "      <td>15.0</td>\n",
       "      <td>301</td>\n",
       "      <td>302.693987</td>\n",
       "      <td>302.693987</td>\n",
       "    </tr>\n",
       "    <tr>\n",
       "      <th>4</th>\n",
       "      <td>1.8</td>\n",
       "      <td>4</td>\n",
       "      <td>11.4</td>\n",
       "      <td>230</td>\n",
       "      <td>231.796818</td>\n",
       "      <td>231.796818</td>\n",
       "    </tr>\n",
       "  </tbody>\n",
       "</table>\n",
       "</div>"
      ],
      "text/plain": [
       "   ENGINE SIZE  CYLINDERS  FUEL CONSUMPTION  COEMISSIONS  \\\n",
       "0          1.6          4              10.5          216   \n",
       "1          1.6          4               9.8          205   \n",
       "2          3.2          6              13.7          265   \n",
       "3          3.5          6              15.0          301   \n",
       "4          1.8          4              11.4          230   \n",
       "\n",
       "   Predicted COEMISSIONS  Predicted COEMISSIONS  \n",
       "0             213.482691             213.482691  \n",
       "1             199.921108             199.921108  \n",
       "2             276.191481             276.191481  \n",
       "3             302.693987             302.693987  \n",
       "4             231.796818             231.796818  "
      ]
     },
     "execution_count": 79,
     "metadata": {},
     "output_type": "execute_result"
    }
   ],
   "source": [
    "df[\"Predicted COEMISSIONS\"] = model.predict(X)\n",
    "df_with_predictions = pd.concat([df, df[\"Predicted COEMISSIONS\"]], axis=1)\n",
    "df_with_predictions.head()"
   ]
  },
  {
   "cell_type": "markdown",
   "id": "fdc40a37-6aa6-4667-837b-d7a3f81b7839",
   "metadata": {},
   "source": [
    "## Conclusion\n",
    "Based on the analysis of the dataset and the performance of the linear regression model, several key insights emerged:\n",
    "\n",
    "Model Accuracy:\n",
    "The high R2 score of 0.985 indicates that the model effectively explains 98.5% of the variance in CO2 emissions based on engine size, cylinder count, and fuel consumption. This suggests that these features are strong predictors of emissions, making the model reliable for practical applications within the scope of the dataset.\n",
    "\n",
    "Key Factors Affecting Emissions:\n",
    "\n",
    "1. Fuel Consumption had the strongest influence on CO2 emissions, as expected. Vehicles with higher fuel consumption tend to produce significantly more emissions.\n",
    "2. Engine Size and Cylinders also positively correlate with emissions, with larger engines and more cylinders generally contributing to higher CO2 outputs."
   ]
  },
  {
   "cell_type": "code",
   "execution_count": null,
   "id": "77024412-3908-41dc-92a9-3013d1bfaeae",
   "metadata": {},
   "outputs": [],
   "source": []
  }
 ],
 "metadata": {
  "kernelspec": {
   "display_name": "Python 3 (ipykernel)",
   "language": "python",
   "name": "python3"
  },
  "language_info": {
   "codemirror_mode": {
    "name": "ipython",
    "version": 3
   },
   "file_extension": ".py",
   "mimetype": "text/x-python",
   "name": "python",
   "nbconvert_exporter": "python",
   "pygments_lexer": "ipython3",
   "version": "3.11.7"
  }
 },
 "nbformat": 4,
 "nbformat_minor": 5
}
